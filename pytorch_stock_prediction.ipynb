{
  "nbformat": 4,
  "nbformat_minor": 0,
  "metadata": {
    "colab": {
      "name": "LSTMPyTorch.ipynb",
      "provenance": [],
      "collapsed_sections": []
    },
    "kernelspec": {
      "name": "python3",
      "display_name": "Python 3"
    },
    "language_info": {
      "name": "python"
    }
  },
  "cells": [
    {
      "cell_type": "code",
      "metadata": {
        "colab": {
          "base_uri": "https://localhost:8080/"
        },
        "id": "8OEFIwYT7B-T",
        "outputId": "6d70983d-a270-4ac4-b99e-764a3bbb2c76"
      },
      "source": [
        "!pip install yfinance"
      ],
      "execution_count": 1,
      "outputs": [
        {
          "output_type": "stream",
          "text": [
            "Requirement already satisfied: yfinance in /usr/local/lib/python3.7/dist-packages (0.1.59)\n",
            "Requirement already satisfied: pandas>=0.24 in /usr/local/lib/python3.7/dist-packages (from yfinance) (1.1.5)\n",
            "Requirement already satisfied: numpy>=1.15 in /usr/local/lib/python3.7/dist-packages (from yfinance) (1.19.5)\n",
            "Requirement already satisfied: lxml>=4.5.1 in /usr/local/lib/python3.7/dist-packages (from yfinance) (4.6.3)\n",
            "Requirement already satisfied: multitasking>=0.0.7 in /usr/local/lib/python3.7/dist-packages (from yfinance) (0.0.9)\n",
            "Requirement already satisfied: requests>=2.20 in /usr/local/lib/python3.7/dist-packages (from yfinance) (2.23.0)\n",
            "Requirement already satisfied: pytz>=2017.2 in /usr/local/lib/python3.7/dist-packages (from pandas>=0.24->yfinance) (2018.9)\n",
            "Requirement already satisfied: python-dateutil>=2.7.3 in /usr/local/lib/python3.7/dist-packages (from pandas>=0.24->yfinance) (2.8.1)\n",
            "Requirement already satisfied: chardet<4,>=3.0.2 in /usr/local/lib/python3.7/dist-packages (from requests>=2.20->yfinance) (3.0.4)\n",
            "Requirement already satisfied: certifi>=2017.4.17 in /usr/local/lib/python3.7/dist-packages (from requests>=2.20->yfinance) (2020.12.5)\n",
            "Requirement already satisfied: idna<3,>=2.5 in /usr/local/lib/python3.7/dist-packages (from requests>=2.20->yfinance) (2.10)\n",
            "Requirement already satisfied: urllib3!=1.25.0,!=1.25.1,<1.26,>=1.21.1 in /usr/local/lib/python3.7/dist-packages (from requests>=2.20->yfinance) (1.25.11)\n",
            "Requirement already satisfied: six>=1.5 in /usr/local/lib/python3.7/dist-packages (from python-dateutil>=2.7.3->pandas>=0.24->yfinance) (1.15.0)\n"
          ],
          "name": "stdout"
        }
      ]
    },
    {
      "cell_type": "code",
      "metadata": {
        "id": "-EolLK9A7Gwu"
      },
      "source": [
        "from collections import deque\n",
        "\n",
        "import numpy as np\n",
        "import pandas as pd\n",
        "import matplotlib.pyplot as plt\n",
        "import os\n",
        "\n",
        "%matplotlib inline\n",
        "import torch\n",
        "from torch import nn\n",
        "from torch.utils.data import TensorDataset, DataLoader\n",
        "\n",
        "from sklearn.model_selection import train_test_split\n",
        "from sklearn import preprocessing\n",
        "import yfinance as yf\n",
        "import pandas as pd\n",
        "from pandas_datareader import data as pdr\n",
        "\n",
        "yf.pdr_override()"
      ],
      "execution_count": 2,
      "outputs": []
    },
    {
      "cell_type": "code",
      "metadata": {
        "id": "TPSWODpV74pS"
      },
      "source": [
        "if not os.path.isdir(\"results\"):\n",
        "    os.mkdir(\"results\")\n",
        "if not os.path.isdir(\"logs\"):\n",
        "    os.mkdir(\"logs\")\n",
        "if not os.path.isdir(\"data\"):\n",
        "    os.mkdir(\"data\")"
      ],
      "execution_count": 3,
      "outputs": []
    },
    {
      "cell_type": "code",
      "metadata": {
        "id": "ABGPGEWK7se9"
      },
      "source": [
        "def fetch_tickers(tickers):\n",
        "  yf_df = pdr.get_data_yahoo(tickers)\n",
        "  for ticker in tickers:\n",
        "    yf_df.index = yf_df.index.map(str)\n",
        "    ticker_df = yf_df.T.loc[(slice(None), ticker),:].swaplevel(i=0,j=1).xs(ticker, level=0).T.dropna(how='all')\n",
        "    ticker_df.to_csv('data/' + ticker + '.csv')\n"
      ],
      "execution_count": 4,
      "outputs": []
    },
    {
      "cell_type": "code",
      "metadata": {
        "id": "xXpvWlvfHd1c"
      },
      "source": [
        "def get_column_scalers(ticker_df, selected_features):\n",
        "  column_scaler = {}\n",
        "  for column in selected_features:\n",
        "    scaler = preprocessing.MinMaxScaler()\n",
        "    ticker_df[column] = scaler.fit_transform(np.expand_dims(ticker_df[column].values, axis=1))\n",
        "    column_scaler[column] = scaler\n",
        "  return column_scaler, ticker_df\n",
        "  "
      ],
      "execution_count": 5,
      "outputs": []
    },
    {
      "cell_type": "code",
      "metadata": {
        "id": "rkECtNsfIBbD"
      },
      "source": [
        "def get_sequences(ticker_df, selected_features, label,n_steps=50, lookup_step=1):\n",
        "  last_sequence = np.array(ticker_df[selected_features].tail(lookup_step))\n",
        "  ticker_df.dropna(inplace=True)\n",
        "  sequence_data = []\n",
        "  sequences = deque(maxlen=n_steps)\n",
        "  for entry, target in zip(ticker_df[selected_features].values, ticker_df[label].values):\n",
        "    sequences.append(entry)\n",
        "    if len(sequences) == n_steps:\n",
        "      sequence_data.append([np.array(sequences), target])\n",
        "  last_sequence = list(sequences) + list(last_sequence)\n",
        "  last_sequence = np.array(last_sequence)\n",
        "  return last_sequence, sequence_data"
      ],
      "execution_count": 6,
      "outputs": []
    },
    {
      "cell_type": "code",
      "metadata": {
        "id": "B-mYliMDInBV"
      },
      "source": [
        "def get_train_test_split(sequence_data, shuffle=False, test_size=0.2):\n",
        "  X, y = [], []\n",
        "  for seq, target in sequence_data:\n",
        "    X.append(seq)\n",
        "    y.append(target)\n",
        "  X = np.array(X)\n",
        "  y = np.array(y)\n",
        "  X = X.reshape((X.shape[0], X.shape[1], X.shape[2]))\n",
        "  return train_test_split(X, y, test_size=test_size, shuffle=shuffle)"
      ],
      "execution_count": 7,
      "outputs": []
    },
    {
      "cell_type": "code",
      "metadata": {
        "id": "aaOEEBfNDD41"
      },
      "source": [
        "def get_data(ticker, n_steps=50, scale=True, shuffle=False, lookup_step=1, test_size=0.2,\n",
        "             selected_features = ['Adj Close', 'Open', 'High', 'Low', 'Volume']):\n",
        "  ticker_df = pd.read_csv('data/' + ticker + '.csv')[-2000:]\n",
        "  label = 'Future'\n",
        "  ticker_df.dropna(inplace=True)\n",
        "\n",
        "  result = {}\n",
        "  result['column_scaler'], ticker_df = get_column_scalers(ticker_df, selected_features)\n",
        "  ticker_df[label] = ticker_df['Adj Close'].shift(-lookup_step)\n",
        "  result['last_sequence'], sequence_data = get_sequences(ticker_df, selected_features, label)\n",
        "  result[\"X_train\"], result[\"X_test\"], result[\"y_train\"], result[\"y_test\"] = get_train_test_split(sequence_data)\n",
        "  return result"
      ],
      "execution_count": 8,
      "outputs": []
    },
    {
      "cell_type": "code",
      "metadata": {
        "colab": {
          "base_uri": "https://localhost:8080/"
        },
        "id": "JJG_HDAQ7o8s",
        "outputId": "0afd8459-f481-4f46-d649-c72b37da968e"
      },
      "source": [
        "tickers = ['MSFT', 'AMZN', 'TSLA', 'AAPL', 'KO', 'UAL', 'AAL']\n",
        "fetch_tickers(tickers)"
      ],
      "execution_count": 9,
      "outputs": [
        {
          "output_type": "stream",
          "text": [
            "[*********************100%***********************]  7 of 7 completed\n"
          ],
          "name": "stdout"
        }
      ]
    },
    {
      "cell_type": "code",
      "metadata": {
        "id": "AOy91vCqAV4Q"
      },
      "source": [
        "data = get_data('KO')\n",
        "X_train = data['X_train']\n",
        "y_train = data['y_train']\n",
        "X_test = data['X_test']\n",
        "y_test = data['y_test']"
      ],
      "execution_count": 10,
      "outputs": []
    },
    {
      "cell_type": "code",
      "metadata": {
        "id": "NV-aBxW5FSxJ"
      },
      "source": [
        "def try_gpu(i=0):\n",
        "    if torch.cuda.device_count() >= i + 1:\n",
        "        return torch.device(f'cuda:{i}')\n",
        "    return torch.device('cpu')\n"
      ],
      "execution_count": 11,
      "outputs": []
    },
    {
      "cell_type": "code",
      "metadata": {
        "id": "sGNkwZYXFXjC"
      },
      "source": [
        "class LSTM(nn.Module):\n",
        "    def __init__(self, num_features=5, hidden_layer_size=512, output_size=1, num_layers=1,batch_size=64):\n",
        "        super(LSTM, self).__init__()\n",
        "        self.batch_size = batch_size\n",
        "        self.num_features = num_features\n",
        "        self.hidden_layer_size = hidden_layer_size\n",
        "        self.output_size = output_size\n",
        "        self.num_layers = num_layers\n",
        "\n",
        "        self.lstm = nn.LSTM(self.num_features, self.hidden_layer_size, self.num_layers, bidirectional=True, batch_first=True)\n",
        "\n",
        "        self.linear = nn.Linear(2*hidden_layer_size, self.output_size)\n",
        "        \n",
        "        \n",
        "    def init_hidden(self):\n",
        "        return (torch.zeros(self.num_layers*2, self.batch_size, self.hidden_layer_size).to(try_gpu()),\n",
        "                torch.zeros(self.num_layers*2, self.batch_size, self.hidden_layer_size).to(try_gpu()))\n",
        "        \n",
        "\n",
        "    def forward(self, input_seq):\n",
        "        lstm_out, _ = self.lstm(input_seq)\n",
        "        predictions = self.linear(lstm_out[:, -1, :])\n",
        "        return predictions"
      ],
      "execution_count": 12,
      "outputs": []
    },
    {
      "cell_type": "code",
      "metadata": {
        "colab": {
          "base_uri": "https://localhost:8080/"
        },
        "id": "OnT9mSqAFcet",
        "outputId": "9c0746e2-1a36-46cc-97da-ffa706ce6f9c"
      },
      "source": [
        "X_train = torch.Tensor(X_train)\n",
        "y_train = torch.Tensor(y_train)\n",
        "\n",
        "X_test = torch.Tensor(X_test)\n",
        "y_test = torch.Tensor(y_test)\n",
        "\n",
        "dataset_train = TensorDataset(X_train, y_train)\n",
        "data_loader_train = DataLoader(dataset_train, batch_size=64)\n",
        "\n",
        "dataset_test = TensorDataset(X_test, y_test)\n",
        "data_loader_test = DataLoader(dataset_test, batch_size=64)\n",
        "\n",
        "model = LSTM().to(try_gpu())\n",
        "model.hidden = model.init_hidden()\n",
        "\n",
        "loss_function = nn.SmoothL1Loss()\n",
        "optimizer = torch.optim.Adam(model.parameters(), lr=0.001)\n",
        "\n",
        "epochs = 10\n",
        "\n",
        "for i in range(epochs):\n",
        "    for seq, label in data_loader_train:\n",
        "        seq = seq.to(try_gpu())\n",
        "        label = label.view(-1,1).to(try_gpu())\n",
        "        optimizer.zero_grad()\n",
        "        \n",
        "        y_pred = model(seq)\n",
        "        single_loss = loss_function(y_pred, label)\n",
        "        single_loss.backward()\n",
        "\n",
        "        optimizer.step()\n",
        "    torch.save(optimizer.state_dict(), os.path.join(\"results\", \"optimizer\") + \".pth\")\n",
        "    torch.save(model.state_dict(), os.path.join(\"results\", \"model\") + \".pth\")\n",
        "\n",
        "    print(f'epoch: {i:3} loss: {single_loss.item():10.8f}')"
      ],
      "execution_count": 13,
      "outputs": [
        {
          "output_type": "stream",
          "text": [
            "epoch:   0 loss: 0.00149873\n",
            "epoch:   1 loss: 0.00209099\n",
            "epoch:   2 loss: 0.00261104\n",
            "epoch:   3 loss: 0.00019415\n",
            "epoch:   4 loss: 0.00168034\n",
            "epoch:   5 loss: 0.00289450\n",
            "epoch:   6 loss: 0.00214955\n",
            "epoch:   7 loss: 0.00176369\n",
            "epoch:   8 loss: 0.00214107\n",
            "epoch:   9 loss: 0.00206953\n"
          ],
          "name": "stdout"
        }
      ]
    },
    {
      "cell_type": "code",
      "metadata": {
        "id": "VMhZQg4ALUIB"
      },
      "source": [
        "def plot_graph(data, mode):\n",
        "  if mode == \"TEST\":\n",
        "    y_actual = data[\"y_test\"]\n",
        "  else:\n",
        "    y_actual = data['y_train']\n",
        "\n",
        "  \n",
        "  y_actual = np.squeeze(data[\"column_scaler\"][\"Adj Close\"].inverse_transform(np.expand_dims(y_actual, axis=0)))\n",
        "  \n",
        "  y_pred = np.empty(1)\n",
        "  if mode == \"TRAIN\":\n",
        "    for seq, label in data_loader_train:\n",
        "      optimizer.zero_grad()\n",
        "      seq = seq.to(try_gpu())\n",
        "      y_pred = np.concatenate((y_pred, predict(seq, data).squeeze()), axis=0)\n",
        "  else:\n",
        "    for seq, label in data_loader_test:\n",
        "      optimizer.zero_grad()\n",
        "      seq = seq.to(try_gpu())\n",
        "      y_pred = np.concatenate((y_pred, predict(seq, data).squeeze()), axis=0)\n",
        "\n",
        "  plt.plot(y_actual[1:], c='b')\n",
        "  plt.plot(y_pred[1:], c='r')\n",
        "  plt.xlabel(\"Days\")\n",
        "  plt.ylabel(\"Price\")\n",
        "  plt.legend([\"Actual Price\", \"Predicted Price\"])\n",
        "  plt.show()"
      ],
      "execution_count": 14,
      "outputs": []
    },
    {
      "cell_type": "code",
      "metadata": {
        "id": "4xl8x84_LgZw"
      },
      "source": [
        "def predict(seq, data):\n",
        "  model = LSTM().to(try_gpu())\n",
        "  model.load_state_dict(torch.load(os.path.join(\"results\", \"model\") + \".pth\"))\n",
        "  model.eval()\n",
        "  output = model(seq)\n",
        "  N_STEPS = 50\n",
        "  last_sequence = data[\"last_sequence\"][-N_STEPS:]\n",
        "  column_scaler = data[\"column_scaler\"]\n",
        "  last_sequence = last_sequence.reshape((last_sequence.shape[1], last_sequence.shape[0]))\n",
        "  \n",
        "  # expand dimension\n",
        "  last_sequence = np.expand_dims(last_sequence, axis=0)\n",
        "  # get the price (by inverting the scaling)\n",
        "  predicted_price = column_scaler[\"Adj Close\"].inverse_transform(output.cpu().detach().numpy())\n",
        "  \n",
        "  return predicted_price"
      ],
      "execution_count": 15,
      "outputs": []
    },
    {
      "cell_type": "code",
      "metadata": {
        "colab": {
          "base_uri": "https://localhost:8080/",
          "height": 279
        },
        "id": "WaPZ36ehLhEE",
        "outputId": "4ca318a5-b8ed-4627-f6ba-ad6d077a5742"
      },
      "source": [
        "model.eval()\n",
        "plot_graph(data, \"TRAIN\")"
      ],
      "execution_count": 16,
      "outputs": [
        {
          "output_type": "display_data",
          "data": {
            "image/png": "[encoded data removed]",
            "text/plain": [
              "<Figure size 432x288 with 1 Axes>"
            ]
          },
          "metadata": {
            "tags": [],
            "needs_background": "light"
          }
        }
      ]
    },
    {
      "cell_type": "code",
      "metadata": {
        "colab": {
          "base_uri": "https://localhost:8080/",
          "height": 279
        },
        "id": "4sYHzgfBLi3v",
        "outputId": "0acbe0da-7be2-4f09-f077-c6adafeb8500"
      },
      "source": [
        "model.eval()\n",
        "plot_graph(data, \"TEST\")"
      ],
      "execution_count": 17,
      "outputs": [
        {
          "output_type": "display_data",
          "data": {
            "image/png": "[encoded data removed]",
            "text/plain": [
              "<Figure size 432x288 with 1 Axes>"
            ]
          },
          "metadata": {
            "tags": [],
            "needs_background": "light"
          }
        }
      ]
    }
  ]
}